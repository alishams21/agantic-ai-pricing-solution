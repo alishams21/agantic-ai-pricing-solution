{
 "cells": [
  {
   "cell_type": "code",
   "execution_count": 1,
   "id": "bc0e1c1c-be6a-4395-bbbd-eeafc9330d7e",
   "metadata": {},
   "outputs": [],
   "source": [
    "# Just one import to start with!!\n",
    "\n",
    "import modal"
   ]
  },
  {
   "cell_type": "markdown",
   "id": "ab5c8533-9f66-448f-b9b2-133d1ff50639",
   "metadata": {},
   "source": [
    "# Setting up the modal tokens\n",
    "\n",
    "The first time you run this, please uncomment the next line and execute it.  \n",
    "This is the same as running `modal setup` from the command line. It connects with Modal and installs your tokens.  "
   ]
  },
  {
   "cell_type": "code",
   "execution_count": 2,
   "id": "0d240622-8422-4c99-8464-c04d063e4cb6",
   "metadata": {},
   "outputs": [
    {
     "name": "stdout",
     "output_type": "stream",
     "text": [
      "\u001b[2KThe web browser should have opened for you to authenticate and get an API token.\n",
      "If it didn't, please copy this URL into your web browser manually:\n",
      "\n",
      "\u001b[2K\u001b]8;id=512533;https://modal.com/token-flow/tf-mmsbMuyU2k0XfyLTrke6Tx\u001b\\\u001b[4;94mhttps://modal.com/token-flow/tf-mmsbMuyU2k0XfyLTrke6Tx\u001b[0m\u001b]8;;\u001b\\\n",
      "\n",
      "\u001b[2K\u001b[32m⠸\u001b[0m Waiting for authentication in the web browser\n",
      "\u001b[2K\u001b[32m⠸\u001b[0m Waiting for token flow to complete...omplete...\n",
      "\u001b[1A\u001b[2K\u001b[32mWeb authentication finished successfully!\u001b[0m\n",
      "\u001b[32mToken is connected to the \u001b[0m\u001b[35mali-shlou\u001b[0m\u001b[32m workspace.\u001b[0m\n",
      "Verifying token against \u001b[4;34mhttps://api.modal.com\u001b[0m\n",
      "\u001b[32mToken verified successfully!\u001b[0m\n",
      "\u001b[?25l\u001b[32m⠋\u001b[0m Storing token\n",
      "\u001b[1A\u001b[2K\u001b[32mToken written to \u001b[0m\u001b[35m/Users/ali.shamsaddinlou/\u001b[0m\u001b[35m.modal.toml\u001b[0m\u001b[32m in profile \u001b[0m\u001b[35mali-shlou\u001b[0m\u001b[32m.\u001b[0m\n"
     ]
    }
   ],
   "source": [
    "!modal setup"
   ]
  },
  {
   "cell_type": "markdown",
   "id": "22e8d804-c027-45fb-8fef-06e7bba6295a",
   "metadata": {},
   "source": [
    "## We need to set your HuggingFace Token as a secret in Modal\n",
    "\n",
    "1. Go to modal.com, sign in and go to your dashboard\n",
    "2. Click on Secrets in the nav bar\n",
    "3. Create new secret, click on Hugging Face, this new secret needs to be called **hf-secret** because that's how we refer to it in the code\n",
    "4. Fill in your HF_TOKEN where it prompts you\n",
    "\n",
    "From a command line, `modal deploy xxx` will deploy your code as a Deployed App\n",
    "\n",
    "This is how you could package your AI service behind an API to be used in a Production System."
   ]
  },
  {
   "cell_type": "code",
   "execution_count": 4,
   "id": "f56d1e55-2a03-4ce2-bb47-2ab6b9175a02",
   "metadata": {},
   "outputs": [
    {
     "name": "stdout",
     "output_type": "stream",
     "text": [
      "\u001b[2K\u001b[34m⠸\u001b[0m Creating objects.....\n",
      "\u001b[37m└── \u001b[0m\u001b[34m⠋\u001b[0m Creating mount \n",
      "\u001b[37m    \u001b[0m/Users/ali.shamsaddinlou/Documents/codes/agantic-ai-pricing-solution/deploym\n",
      "\u001b[2K\u001b[1A\u001b[2K\u001b[1A\u001b[2K\u001b[1A\u001b[2K\u001b[34m⠦\u001b[0m Creating objects.../1 files\n",
      "\u001b[37m└── \u001b[0m\u001b[34m⠸\u001b[0m Creating mount \n",
      "\u001b[37m    \u001b[0m/Users/ali.shamsaddinlou/Documents/codes/agantic-ai-pricing-solution/deploym\n",
      "\u001b[2K\u001b[1A\u001b[2K\u001b[1A\u001b[2K\u001b[1A\u001b[2K\u001b[34m⠏\u001b[0m Creating objects... index of 1 files\n",
      "\u001b[37m├── \u001b[0m🔨 Created mount \n",
      "\u001b[37m│   \u001b[0m/Users/ali.shamsaddinlou/Documents/codes/agantic-ai-pricing-solution/deploym\n",
      "\u001b[37m│   \u001b[0ment_and_R&D/deployment_service.py\n",
      "\u001b[2K\u001b[1A\u001b[2K\u001b[1A\u001b[2K\u001b[1A\u001b[2K\u001b[1A\u001b[2K\u001b[34m⠋\u001b[0m Creating objects...\n",
      "\u001b[37m├── \u001b[0m🔨 Created mount \n",
      "\u001b[37m│   \u001b[0m/Users/ali.shamsaddinlou/Documents/codes/agantic-ai-pricing-solution/deploym\n",
      "\u001b[37m│   \u001b[0ment_and_R&D/deployment_service.py\n",
      "\u001b[37m└── \u001b[0m🔨 Created function Pricer.*.\n",
      "\u001b[1A\u001b[2K\u001b[1A\u001b[2K\u001b[1A\u001b[2K\u001b[1A\u001b[2K\u001b[1A\u001b[2K\u001b[32m✓\u001b[0m Created objects.\n",
      "\u001b[37m├── \u001b[0m🔨 Created mount \n",
      "\u001b[37m│   \u001b[0m/Users/ali.shamsaddinlou/Documents/codes/agantic-ai-pricing-solution/deploym\n",
      "\u001b[37m│   \u001b[0ment_and_R&D/deployment_service.py\n",
      "\u001b[37m└── \u001b[0m🔨 Created function Pricer.*.\n",
      "\u001b[32m✓\u001b[0m App deployed in 1.264s! 🎉\n",
      "\n",
      "View Deployment: \u001b[35mhttps://modal.com/apps/ali-shlou/main/deployed/pricer-service\u001b[0m\n"
     ]
    }
   ],
   "source": [
    "\n",
    "!modal deploy -m deployment_service"
   ]
  },
  {
   "cell_type": "markdown",
   "id": "65b490e8",
   "metadata": {},
   "source": [
    "# Test if  model works as it should"
   ]
  },
  {
   "cell_type": "code",
   "execution_count": 5,
   "id": "9e19daeb-1281-484b-9d2f-95cc6fed2622",
   "metadata": {},
   "outputs": [
    {
     "name": "stdout",
     "output_type": "stream",
     "text": [
      "133.0\n"
     ]
    }
   ],
   "source": [
    "Pricer = modal.Cls.from_name(\"pricer-service\", \"Pricer\")\n",
    "pricer = Pricer()\n",
    "reply = pricer.price.remote(\"Quadcast HyperX condenser mic, connects via usb-c to your computer for crystal clear audio\")\n",
    "print(reply)"
   ]
  },
  {
   "cell_type": "markdown",
   "id": "9c1b1451-6249-4462-bf2d-5937c059926c",
   "metadata": {},
   "source": [
    "# Optional: Keeping Modal warm\n",
    "\n",
    "## A way to improve the speed of the Modal pricer service\n",
    "\n",
    "The first time you run this modal class, it might take as much as 10 minutes to build.  \n",
    "Subsequently it should be much faster.. 30 seconds if it needs to wake up, otherwise 2 seconds.  \n",
    "If you want it to always be 2 seconds, you can keep the container from going to sleep by editing this constant in pricer_service2.py:\n",
    "\n",
    "`MIN_CONTAINERS = 0`\n",
    "\n",
    "Make it 1 to keep a container alive.  \n",
    "But please note: this will eat up credits! Only do this if you are comfortable to have a process running continually.\n"
   ]
  },
  {
   "cell_type": "code",
   "execution_count": null,
   "id": "b88079b7",
   "metadata": {},
   "outputs": [],
   "source": []
  }
 ],
 "metadata": {
  "kernelspec": {
   "display_name": "llms",
   "language": "python",
   "name": "python3"
  },
  "language_info": {
   "codemirror_mode": {
    "name": "ipython",
    "version": 3
   },
   "file_extension": ".py",
   "mimetype": "text/x-python",
   "name": "python",
   "nbconvert_exporter": "python",
   "pygments_lexer": "ipython3",
   "version": "3.11.13"
  }
 },
 "nbformat": 4,
 "nbformat_minor": 5
}
